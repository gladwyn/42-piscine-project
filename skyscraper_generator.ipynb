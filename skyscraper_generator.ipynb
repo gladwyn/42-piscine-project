{
 "cells": [
  {
   "cell_type": "code",
   "execution_count": 6,
   "id": "19fa73bc-dbea-434f-b536-556f11316497",
   "metadata": {},
   "outputs": [
    {
     "name": "stdout",
     "output_type": "stream",
     "text": [
      "Puzzle clues:\n",
      "Top clues:    [3, 3, 3, 1, 2, 2, 3, 2]\n",
      "Bottom clues: [3, 4, 2, 5, 2, 4, 1, 4]\n",
      "Left clues:   [3, 3, 2, 3, 5, 1, 2, 4]\n",
      "Right clues:  [2, 2, 3, 3, 1, 3, 3, 2]\n",
      "\n",
      "Solution:\n",
      "3 1 4 8 5 2 6 7\n",
      "1 7 2 6 3 8 4 5\n",
      "2 8 3 7 4 1 5 6\n",
      "6 4 7 3 8 5 1 2\n",
      "4 2 5 1 6 3 7 8\n",
      "8 6 1 5 2 7 3 4\n",
      "7 5 8 4 1 6 2 3\n",
      "5 3 6 2 7 4 8 1\n"
     ]
    }
   ],
   "source": [
    "import numpy as np\n",
    "import random\n",
    "\n",
    "def count_visible(buildings):\n",
    "    max_height = 0\n",
    "    visible = 0\n",
    "    for height in buildings:\n",
    "        if height > max_height:\n",
    "            visible += 1\n",
    "            max_height = height\n",
    "    return visible\n",
    "\n",
    "def generate_latin_square(n):\n",
    "    base = np.array([[(i + j) % n + 1 for j in range(n)] for i in range(n)])\n",
    "    # Shuffle rows and columns randomly to get a different Latin square\n",
    "    for _ in range(10):\n",
    "        np.random.shuffle(base)\n",
    "        base = base.T\n",
    "        np.random.shuffle(base)\n",
    "        base = base.T\n",
    "    return base\n",
    "\n",
    "def compute_clues(grid):\n",
    "    n = grid.shape[0]\n",
    "    top = [count_visible(grid[:, c]) for c in range(n)]\n",
    "    bottom = [count_visible(grid[::-1, c]) for c in range(n)]\n",
    "    left = [count_visible(grid[r]) for r in range(n)]\n",
    "    right = [count_visible(grid[r][::-1]) for r in range(n)]\n",
    "    return top, bottom, left, right\n",
    "\n",
    "def print_puzzle(top, bottom, left, right):\n",
    "    print(\"Top clues:   \", top)\n",
    "    print(\"Bottom clues:\", bottom)\n",
    "    print(\"Left clues:  \", left)\n",
    "    print(\"Right clues: \", right)\n",
    "\n",
    "def main():\n",
    "    n = 8\n",
    "    \n",
    "    grid = generate_latin_square(n)\n",
    "    top, bottom, left, right = compute_clues(grid)\n",
    "    \n",
    "    print(\"Puzzle clues:\")\n",
    "    print_puzzle(top, bottom, left, right)\n",
    "    print(\"\\nSolution:\")\n",
    "    for row in grid:\n",
    "        print(\" \".join(map(str, row)))\n",
    "\n",
    "if __name__ == \"__main__\":\n",
    "    main()"
   ]
  },
  {
   "cell_type": "code",
   "execution_count": null,
   "id": "f7f2c6ef-0581-4d38-a414-6603f7036410",
   "metadata": {},
   "outputs": [],
   "source": []
  }
 ],
 "metadata": {
  "kernelspec": {
   "display_name": "Python 3 (ipykernel)",
   "language": "python",
   "name": "python3"
  },
  "language_info": {
   "codemirror_mode": {
    "name": "ipython",
    "version": 3
   },
   "file_extension": ".py",
   "mimetype": "text/x-python",
   "name": "python",
   "nbconvert_exporter": "python",
   "pygments_lexer": "ipython3",
   "version": "3.12.7"
  }
 },
 "nbformat": 4,
 "nbformat_minor": 5
}
